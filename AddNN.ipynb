{
 "cells": [
  {
   "cell_type": "code",
   "execution_count": 1,
   "metadata": {},
   "outputs": [
    {
     "name": "stderr",
     "output_type": "stream",
     "text": [
      "Using TensorFlow backend.\n"
     ]
    }
   ],
   "source": [
    "import numpy as np\n",
    "import random\n",
    "import math\n",
    "\n",
    "from keras.layers import Dense, LSTM, Dropout\n",
    "from keras.models import Sequential\n",
    "from sklearn.metrics import accuracy_score, mean_squared_error"
   ]
  },
  {
   "cell_type": "code",
   "execution_count": 2,
   "metadata": {
    "collapsed": true
   },
   "outputs": [],
   "source": [
    "MAX_NUM_LEN = 3\n",
    "RAND_MIN = int(math.pow(10, MAX_NUM_LEN - 2))\n",
    "RAND_MAX = int(math.pow(10, MAX_NUM_LEN - 1)) - 1\n",
    "\n",
    "def cal_seq(n):\n",
    "    seq = np.zeros((MAX_NUM_LEN,))\n",
    "    for i in range(MAX_NUM_LEN):\n",
    "        seq[i] = n % 10\n",
    "        n = n // 10\n",
    "    return seq\n",
    "\n",
    "def gen(batch_size=16):\n",
    "    X = np.zeros((batch_size, MAX_NUM_LEN, 2))\n",
    "    y = np.zeros((batch_size, MAX_NUM_LEN, 1))\n",
    "    \n",
    "    for b in range(batch_size):\n",
    "        x1, x2 = random.randint(RAND_MIN, RAND_MAX), random.randint(RAND_MIN, RAND_MAX)\n",
    "        X[b,:,0], X[b,:,1] = cal_seq(x1), cal_seq(x2)\n",
    "        y[b,:,0] = cal_seq(x1 + x2)\n",
    "    \n",
    "    return (X/10, y/10)"
   ]
  },
  {
   "cell_type": "code",
   "execution_count": 48,
   "metadata": {
    "collapsed": true
   },
   "outputs": [],
   "source": [
    "def get_model(batch_size=1):\n",
    "    model = Sequential()\n",
    "    model.add(LSTM(8, batch_input_shape=(batch_size, 1, 2), return_sequences=True, stateful=True, activation='relu'))\n",
    "    model.add(LSTM(8, return_sequences=False, stateful=True, activation='relu'))\n",
    "    model.add(Dropout(0.2))\n",
    "    model.add(Dense(1, activation='sigmoid'))\n",
    "    model.compile(loss='mse', optimizer='adam')\n",
    "#     model.summary()\n",
    "    return model"
   ]
  },
  {
   "cell_type": "code",
   "execution_count": 45,
   "metadata": {
    "collapsed": true
   },
   "outputs": [],
   "source": [
    "def evaluate(model, batch_size):\n",
    "    X, y= gen(batch_size)\n",
    "    time_steps = X.shape[1]\n",
    "    \n",
    "    preds = np.zeros((BATCH_SIZE, time_steps, 1))\n",
    "    for t in range(time_steps):\n",
    "        pred = model.predict(np.expand_dims(X[:, t], axis=1))\n",
    "        preds[:, t] = pred\n",
    "    model.reset_states()\n",
    "    \n",
    "    y, preds = y.flatten(), preds.flatten()\n",
    "    loss = mean_squared_error(y, preds)\n",
    "    acc = accuracy_score(np.around(y * 10).astype(np.int), np.around(preds * 10).astype(np.int))\n",
    "    \n",
    "    return loss, acc"
   ]
  },
  {
   "cell_type": "code",
   "execution_count": null,
   "metadata": {
    "collapsed": true
   },
   "outputs": [],
   "source": [
    "BATCH_SIZE = 16\n",
    "model = get_model(BATCH_SIZE)\n",
    "\n",
    "EPOCHS = 100000\n",
    "CV_NUM = 10\n",
    "min_loss = 99999999\n",
    "\n",
    "for e in range(EPOCHS):\n",
    "    X, y= gen(BATCH_SIZE)\n",
    "    \n",
    "    for i in range(X.shape[1]):\n",
    "        loss = model.train_on_batch(np.expand_dims(X[:, i], axis=1), y[:, i])\n",
    "    model.reset_states()\n",
    "\n",
    "    if (e+1) % 100 == 0:\n",
    "        curr_loss, curr_acc = 0.0, 0.0\n",
    "        for i in range(CV_NUM):\n",
    "            loss, acc = evaluate(model, BATCH_SIZE)\n",
    "            curr_loss += loss / CV_NUM\n",
    "            curr_acc += acc / CV_NUM\n",
    "        \n",
    "        print('epoch {}, loss {:.4f}, acc {:.4f}'.format(e+1, curr_loss, curr_acc))\n",
    "        if min_loss > curr_loss:\n",
    "            min_loss = curr_loss\n",
    "            model.save_weights('./weights/weights-{}-{:.4f}-{:.4f}.h5'.format(e+1, curr_loss, curr_acc))\n",
    "            print('model saved')"
   ]
  },
  {
   "cell_type": "code",
   "execution_count": 42,
   "metadata": {},
   "outputs": [
    {
     "name": "stdout",
     "output_type": "stream",
     "text": [
      "46 + 57 = 103(true:103)\n",
      "20 + 23 = 43(true:43)\n",
      "60 + 43 = 113(true:103)\n",
      "84 + 46 = 130(true:130)\n",
      "13 + 16 = 29(true:29)\n",
      "20 + 72 = 92(true:92)\n",
      "77 + 32 = 109(true:109)\n",
      "91 + 14 = 105(true:105)\n",
      "32 + 87 = 119(true:119)\n",
      "81 + 46 = 127(true:127)\n",
      "57 + 66 = 123(true:123)\n",
      "80 + 15 = 95(true:95)\n",
      "87 + 28 = 115(true:115)\n",
      "20 + 44 = 64(true:64)\n",
      "97 + 55 = 152(true:152)\n",
      "85 + 32 = 117(true:117)\n"
     ]
    }
   ],
   "source": [
    "def num(x):\n",
    "    l = x.shape[0]\n",
    "    n = 0\n",
    "    for i in range(l):\n",
    "        n += round(x[l-i-1] * 10)\n",
    "        n *= 10\n",
    "    return int(n // 10)\n",
    "\n",
    "def test(model, batch_size):\n",
    "    X, y= gen(batch_size)\n",
    "    time_steps = X.shape[1]\n",
    "    \n",
    "    preds = np.zeros((BATCH_SIZE, time_steps, 1))\n",
    "    for t in range(time_steps):\n",
    "        pred = model.predict(np.expand_dims(X[:, t], axis=1))\n",
    "        preds[:, t] = pred\n",
    "    model.reset_states()\n",
    "    \n",
    "    time_steps = X.shape[1]\n",
    "    for b in range(batch_size):\n",
    "        x1 = num(X[b, :, 0])\n",
    "        x2 = num(X[b, :, 1])\n",
    "        y_ = num(y[b, :, 0])\n",
    "        preds_ = num(preds[b, :, 0])\n",
    "        print(\"{} + {} = {}(true:{})\".format(x1, x2, preds_, y_))\n",
    "        \n",
    "BATCH_SIZE = 16\n",
    "model = get_model(BATCH_SIZE)\n",
    "model.load_weights('./weights/weights-79400-0.0005-0.9771.h5')\n",
    "test(model, BATCH_SIZE)"
   ]
  }
 ],
 "metadata": {
  "kernelspec": {
   "display_name": "Python 3",
   "language": "python",
   "name": "python3"
  },
  "language_info": {
   "codemirror_mode": {
    "name": "ipython",
    "version": 3
   },
   "file_extension": ".py",
   "mimetype": "text/x-python",
   "name": "python",
   "nbconvert_exporter": "python",
   "pygments_lexer": "ipython3",
   "version": "3.6.1"
  }
 },
 "nbformat": 4,
 "nbformat_minor": 2
}
